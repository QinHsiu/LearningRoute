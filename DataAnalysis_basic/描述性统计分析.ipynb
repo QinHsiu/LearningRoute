{
 "cells": [
  {
   "cell_type": "code",
   "execution_count": 12,
   "id": "c4f54a8d",
   "metadata": {},
   "outputs": [
    {
     "data": {
      "text/plain": [
       "62.35014590147543"
      ]
     },
     "execution_count": 12,
     "metadata": {},
     "output_type": "execute_result"
    }
   ],
   "source": [
    "import numpy as np\n",
    "import pandas as pd\n",
    "\n",
    "\n",
    "#data=pd.read_csv(r'Customer-Churn.csv',,skipinitialspace=True)\n",
    "#data=data.sample(1000)\n",
    "#data.head\n",
    "#均值\n",
    "m_mean=data['MonthlyCharges'].mean()\n",
    "#标准差\n",
    "m_std=data['MonthlyCharges'].std()\n",
    "#中位数\n",
    "m_mid=data['MonthlyCharges'].median()\n",
    "#众数,连续型特征很少计算众数\n",
    "m_m=data['MonthlyCharges'].mode()\n",
    "#分类变量\n",
    "data['MonthlyCharges'].value_counts()\n",
    "#分位数\n",
    "data['MonthlyCharges'].quantile([0.00,0.25,0.50,0.75])\n",
    "#极差=最大值减去最小值\n",
    "data['MonthlyCharges'].max()-data['MonthlyCharges'].min()\n",
    "#四分位差\n",
    "data['MonthlyCharges'].quantile(0.75)-data['MonthlyCharges'].quantile(0.25)\n",
    "#方差=标准差^2\n",
    "#变异系数=标准差/均值\n",
    "cv=data['MonthlyCharges'].std()/data['MonthlyCharges'].mean()\n",
    "cv\n",
    "#点估计:用样本统计量估计总体参数，抽样平均身高为168=>总体平均身高也为168\n",
    "\n",
    "\n",
    "from scipy import stats\n",
    "#区间估计，提供置信区间和保证程度（置信度）\n",
    "#有95%的可能性确定总体增长率在[4.5%,5.5%]之间，95%表示置信度，区间表示置信区间\n",
    "se=stats.sem(data['MonthlyCharges'])\n",
    "n=len(data['MonthlyCharges'])\n",
    "#标准误\n",
    "sf=data['MonthlyCharges'].std()/np.sqrt(n)\n",
    "#置信区间\n",
    "interval=stats.norm.interval(0.95,data['MonthlyCharges'].mean(),se)\n",
    "data['MonthlyCharges'].mean()-1.96*se\n",
    "\n",
    "#样本均值近似正态分布，中心极限定理"
   ]
  },
  {
   "cell_type": "code",
   "execution_count": 13,
   "id": "fc344906",
   "metadata": {},
   "outputs": [
    {
     "data": {
      "text/plain": [
       "(62.35017985163431, 66.04532014836569)"
      ]
     },
     "execution_count": 13,
     "metadata": {},
     "output_type": "execute_result"
    }
   ],
   "source": [
    "#假设检验\n",
    "#当抽样均值距离总体均值u越近时，抽样结果出现概率越大，反之相反\n",
    "#步骤\n",
    "#提出原假设和备择假设\n",
    "#确定适当的检验统计量\n",
    "#设定显著性水平\n",
    "#计算检验统计量的值\n",
    "#做出决策\n",
    "\n",
    "#单样本t检验\n",
    "#假设样本服从t分布，原假设为总体均值等于u0\n",
    "#备注假设为总体均值不等于u0\n",
    "#先计算样本均值x，样本标准差q\n",
    "# t=(x-u0)/(q/sqrt(n))\n",
    "#根据公式计算结果p，判断是否拒绝原假设\n",
    "d_mean=data['MonthlyCharges'].mean()\n",
    "import statsmodels.api as sm\n",
    "d1=sm.stats.DescrStatsW(data['MonthlyCharges'])\n",
    "d1.ttest_mean(d_mean)\n",
    "#(a,b,c)其中c为样本的自由度=数量-1\n",
    "\n",
    "\n",
    "\n",
    "\n",
    "#双样本t检验,主要看pvalue\n",
    "m_a=data.groupby(by='gender').mean()['MonthlyCharges']\n",
    "m_a\n",
    "gender0=data[data['gender']=='Female']['MonthlyCharges']\n",
    "gender1=data[data['gender']=='Male']['MonthlyCharges']\n",
    "levelTest=stats.levene(gender0,gender1)\n",
    "levelTest\n",
    "stats.stats.ttest_ind(gender0,gender1,equal_var=True)\n"
   ]
  },
  {
   "cell_type": "code",
   "execution_count": 32,
   "id": "c4d5c685",
   "metadata": {},
   "outputs": [
    {
     "name": "stdout",
     "output_type": "stream",
     "text": [
      "(1.9015081051782328, 0.9838838577705586, 8, array([[ 106.981,  110.019,  217.   ],\n",
      "       [  97.121,   99.879,  197.   ],\n",
      "       [ 165.155,  169.845,  335.   ],\n",
      "       [ 123.743,  127.257,  251.   ],\n",
      "       [ 493.   ,  507.   , 1000.   ]]))\n"
     ]
    },
    {
     "data": {
      "text/html": [
       "<div>\n",
       "<style scoped>\n",
       "    .dataframe tbody tr th:only-of-type {\n",
       "        vertical-align: middle;\n",
       "    }\n",
       "\n",
       "    .dataframe tbody tr th {\n",
       "        vertical-align: top;\n",
       "    }\n",
       "\n",
       "    .dataframe thead th {\n",
       "        text-align: right;\n",
       "    }\n",
       "</style>\n",
       "<table border=\"1\" class=\"dataframe\">\n",
       "  <thead>\n",
       "    <tr style=\"text-align: right;\">\n",
       "      <th>gender</th>\n",
       "      <th>Female</th>\n",
       "      <th>Male</th>\n",
       "    </tr>\n",
       "    <tr>\n",
       "      <th>PaymentMethod</th>\n",
       "      <th></th>\n",
       "      <th></th>\n",
       "    </tr>\n",
       "  </thead>\n",
       "  <tbody>\n",
       "    <tr>\n",
       "      <th>Bank transfer (automatic)</th>\n",
       "      <td>0.516129</td>\n",
       "      <td>0.483871</td>\n",
       "    </tr>\n",
       "    <tr>\n",
       "      <th>Credit card (automatic)</th>\n",
       "      <td>0.451777</td>\n",
       "      <td>0.548223</td>\n",
       "    </tr>\n",
       "    <tr>\n",
       "      <th>Electronic check</th>\n",
       "      <td>0.501493</td>\n",
       "      <td>0.498507</td>\n",
       "    </tr>\n",
       "    <tr>\n",
       "      <th>Mailed check</th>\n",
       "      <td>0.494024</td>\n",
       "      <td>0.505976</td>\n",
       "    </tr>\n",
       "  </tbody>\n",
       "</table>\n",
       "</div>"
      ],
      "text/plain": [
       "gender                       Female      Male\n",
       "PaymentMethod                                \n",
       "Bank transfer (automatic)  0.516129  0.483871\n",
       "Credit card (automatic)    0.451777  0.548223\n",
       "Electronic check           0.501493  0.498507\n",
       "Mailed check               0.494024  0.505976"
      ]
     },
     "execution_count": 32,
     "metadata": {},
     "output_type": "execute_result"
    }
   ],
   "source": [
    "#卡方检验：主要用于分析两个分类变量之间的关系\n",
    "#只能预测两个变量是否相关，不能表示强弱关系\n",
    "#两个分类变量，其中有一个变量必须是二分类，不能都是多分类\n",
    "cross_tab=pd.crosstab(data.PaymentMethod,data.gender,margins=True)\n",
    "cross_tab\n",
    "from scipy import stats\n",
    "print(stats.chi2_contingency(cross_tab))\n",
    "pd.crosstab(data.PaymentMethod,data.gender,normalize='index')\n"
   ]
  },
  {
   "cell_type": "code",
   "execution_count": 40,
   "id": "7a673e73",
   "metadata": {},
   "outputs": [
    {
     "data": {
      "text/html": [
       "<div>\n",
       "<style scoped>\n",
       "    .dataframe tbody tr th:only-of-type {\n",
       "        vertical-align: middle;\n",
       "    }\n",
       "\n",
       "    .dataframe tbody tr th {\n",
       "        vertical-align: top;\n",
       "    }\n",
       "\n",
       "    .dataframe thead th {\n",
       "        text-align: right;\n",
       "    }\n",
       "</style>\n",
       "<table border=\"1\" class=\"dataframe\">\n",
       "  <thead>\n",
       "    <tr style=\"text-align: right;\">\n",
       "      <th></th>\n",
       "      <th>df</th>\n",
       "      <th>sum_sq</th>\n",
       "      <th>mean_sq</th>\n",
       "      <th>F</th>\n",
       "      <th>PR(&gt;F)</th>\n",
       "    </tr>\n",
       "  </thead>\n",
       "  <tbody>\n",
       "    <tr>\n",
       "      <th>C(gender)</th>\n",
       "      <td>1.0</td>\n",
       "      <td>425.163208</td>\n",
       "      <td>425.163208</td>\n",
       "      <td>0.586000</td>\n",
       "      <td>4.441652e-01</td>\n",
       "    </tr>\n",
       "    <tr>\n",
       "      <th>C(tenure)</th>\n",
       "      <td>71.0</td>\n",
       "      <td>120804.749741</td>\n",
       "      <td>1701.475348</td>\n",
       "      <td>2.345135</td>\n",
       "      <td>1.183953e-08</td>\n",
       "    </tr>\n",
       "    <tr>\n",
       "      <th>C(Contract)</th>\n",
       "      <td>2.0</td>\n",
       "      <td>95361.286185</td>\n",
       "      <td>47680.643092</td>\n",
       "      <td>65.718001</td>\n",
       "      <td>2.056244e-27</td>\n",
       "    </tr>\n",
       "    <tr>\n",
       "      <th>Residual</th>\n",
       "      <td>925.0</td>\n",
       "      <td>671118.938303</td>\n",
       "      <td>725.533987</td>\n",
       "      <td>NaN</td>\n",
       "      <td>NaN</td>\n",
       "    </tr>\n",
       "  </tbody>\n",
       "</table>\n",
       "</div>"
      ],
      "text/plain": [
       "                df         sum_sq       mean_sq          F        PR(>F)\n",
       "C(gender)      1.0     425.163208    425.163208   0.586000  4.441652e-01\n",
       "C(tenure)     71.0  120804.749741   1701.475348   2.345135  1.183953e-08\n",
       "C(Contract)    2.0   95361.286185  47680.643092  65.718001  2.056244e-27\n",
       "Residual     925.0  671118.938303    725.533987        NaN           NaN"
      ]
     },
     "execution_count": 40,
     "metadata": {},
     "output_type": "execute_result"
    }
   ],
   "source": [
    "#方差分析：用于检验多个样本的均值是否有显著性差异，\n",
    "#用于分析多于两个分类的离散型变量与连续型变量的关系\n",
    "#例如不同教育程度水平对收入是否有显著性影响\n",
    "\n",
    "#单因素方差分析：\n",
    "#衡量不同因素对观测变化的影响程度，不同因素可以理解为一个变量取不同值时对观测变量的影响\n",
    "#例如收入水平是否受教育程度的影响\n",
    "from statsmodels.stats.anova import anova_lm\n",
    "from statsmodels.formula.api import ols\n",
    "model=ols('MonthlyCharges~C(gender)+C(tenure)+C(Contract)',data=data.dropna()).fit()\n",
    "anova_lm(model)\n",
    "\n",
    "data[['MonthlyCharges','tenure']].groupby('tenure').mean()\n",
    "#多因素方差分析：\n",
    "#考虑的是多个分类变量对连续变量的影响，以及分类变量之间的交互效应，\n",
    "#例如在考虑股票收益率与行业和地区之间的关系，还要考虑行业和地区的交互雄效应\n",
    "\n"
   ]
  },
  {
   "cell_type": "code",
   "execution_count": 62,
   "id": "4ec73de8",
   "metadata": {},
   "outputs": [
    {
     "data": {
      "image/png": "[encoded data removed]",
      "text/plain": [
       "<Figure size 432x288 with 1 Axes>"
      ]
     },
     "metadata": {
      "needs_background": "light"
     },
     "output_type": "display_data"
    },
    {
     "data": {
      "text/html": [
       "<div>\n",
       "<style scoped>\n",
       "    .dataframe tbody tr th:only-of-type {\n",
       "        vertical-align: middle;\n",
       "    }\n",
       "\n",
       "    .dataframe tbody tr th {\n",
       "        vertical-align: top;\n",
       "    }\n",
       "\n",
       "    .dataframe thead th {\n",
       "        text-align: right;\n",
       "    }\n",
       "</style>\n",
       "<table border=\"1\" class=\"dataframe\">\n",
       "  <thead>\n",
       "    <tr style=\"text-align: right;\">\n",
       "      <th></th>\n",
       "      <th>tenure_r</th>\n",
       "      <th>MonthlyCharges_r</th>\n",
       "    </tr>\n",
       "  </thead>\n",
       "  <tbody>\n",
       "    <tr>\n",
       "      <th>tenure_r</th>\n",
       "      <td>1.000000</td>\n",
       "      <td>0.281572</td>\n",
       "    </tr>\n",
       "    <tr>\n",
       "      <th>MonthlyCharges_r</th>\n",
       "      <td>0.281572</td>\n",
       "      <td>1.000000</td>\n",
       "    </tr>\n",
       "  </tbody>\n",
       "</table>\n",
       "</div>"
      ],
      "text/plain": [
       "                  tenure_r  MonthlyCharges_r\n",
       "tenure_r          1.000000          0.281572\n",
       "MonthlyCharges_r  0.281572          1.000000"
      ]
     },
     "execution_count": 62,
     "metadata": {},
     "output_type": "execute_result"
    }
   ],
   "source": [
    "#相关分析\n",
    "#Pearson相关系数:衡量两变量线性相关关系\n",
    "#公式=分子为：协方差；/分母为：两变量的标准差相乘\n",
    "import matplotlib.pyplot as plt\n",
    "plt.scatter(x=data['tenure'],y=data['MonthlyCharges'],c='blue')\n",
    "plt.show()\n",
    "\n",
    "corr_pear=data[['tenure','MonthlyCharges']].corr(method='pearson')\n",
    "corr_pear\n",
    "\n",
    "\n",
    "#Sperman 相关系数：适用于有序变量\n",
    "#将变量排序，将原始数据转换为等级数据，即排序位置\n",
    "#两个变量，每一组的值对应的等级差为d\n",
    "#分母中的n为样本量\n",
    "#p=1-6(E(di^2))/n(n^2-1)\n",
    "corr_sperman=data[['tenure','MonthlyCharges']].corr(method='spearman')\n",
    "corr_sperman.loc(['tenure','MonthlyCharges'])\n",
    "\n",
    "\n",
    "#Kendall相关系数：用于衡量两个变量的非线性关系\n",
    "corr_kindall=data[['tenure','MonthlyCharges']].corr(method='kendall')\n",
    "corr_kindall\n",
    "\n",
    "#分等级,数值越大排名越后\n",
    "data['MonthlyCharges'].rank()\n",
    "data['MonthlyCharges_r']=data['MonthlyCharges'].rank()\n",
    "data['tenure_r']=data['tenure'].rank()\n",
    "data[['MonthlyCharges','MonthlyCharges_r']]\n",
    "#分级后的pearson系数\n",
    "data[['tenure_r','MonthlyCharges_r']].corr(method='pearson')"
   ]
  },
  {
   "cell_type": "code",
   "execution_count": 63,
   "id": "f37494a5",
   "metadata": {},
   "outputs": [
    {
     "data": {
      "text/html": [
       "<div>\n",
       "<style scoped>\n",
       "    .dataframe tbody tr th:only-of-type {\n",
       "        vertical-align: middle;\n",
       "    }\n",
       "\n",
       "    .dataframe tbody tr th {\n",
       "        vertical-align: top;\n",
       "    }\n",
       "\n",
       "    .dataframe thead th {\n",
       "        text-align: right;\n",
       "    }\n",
       "</style>\n",
       "<table border=\"1\" class=\"dataframe\">\n",
       "  <thead>\n",
       "    <tr style=\"text-align: right;\">\n",
       "      <th></th>\n",
       "      <th>tenure</th>\n",
       "      <th>MonthlyCharges</th>\n",
       "    </tr>\n",
       "  </thead>\n",
       "  <tbody>\n",
       "    <tr>\n",
       "      <th>tenure</th>\n",
       "      <td>1.000000</td>\n",
       "      <td>0.255627</td>\n",
       "    </tr>\n",
       "    <tr>\n",
       "      <th>MonthlyCharges</th>\n",
       "      <td>0.255627</td>\n",
       "      <td>1.000000</td>\n",
       "    </tr>\n",
       "  </tbody>\n",
       "</table>\n",
       "</div>"
      ],
      "text/plain": [
       "                  tenure  MonthlyCharges\n",
       "tenure          1.000000        0.255627\n",
       "MonthlyCharges  0.255627        1.000000"
      ]
     },
     "execution_count": 63,
     "metadata": {},
     "output_type": "execute_result"
    }
   ],
   "source": [
    "#未分级的pearson系数\n",
    "corr_pear=data[['tenure','MonthlyCharges']].corr(method='pearson')\n",
    "corr_pear"
   ]
  },
  {
   "cell_type": "code",
   "execution_count": 65,
   "id": "77afed51",
   "metadata": {},
   "outputs": [
    {
     "data": {
      "text/plain": [
       "0.2815720077857264"
      ]
     },
     "execution_count": 65,
     "metadata": {},
     "output_type": "execute_result"
    }
   ],
   "source": [
    "#等于分级后计算的pearson系数\n",
    "corr_sperman.loc['tenure','MonthlyCharges']"
   ]
  },
  {
   "cell_type": "code",
   "execution_count": null,
   "id": "82c9cdc4",
   "metadata": {},
   "outputs": [],
   "source": []
  }
 ],
 "metadata": {
  "kernelspec": {
   "display_name": "Python 3",
   "language": "python",
   "name": "python3"
  },
  "language_info": {
   "codemirror_mode": {
    "name": "ipython",
    "version": 3
   },
   "file_extension": ".py",
   "mimetype": "text/x-python",
   "name": "python",
   "nbconvert_exporter": "python",
   "pygments_lexer": "ipython3",
   "version": "3.9.5"
  }
 },
 "nbformat": 4,
 "nbformat_minor": 5
}
