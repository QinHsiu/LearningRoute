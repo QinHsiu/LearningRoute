{
 "cells": [
  {
   "cell_type": "code",
   "execution_count": 1,
   "id": "6b7fc746",
   "metadata": {},
   "outputs": [
    {
     "data": {
      "text/plain": [
       "'D:\\\\PycharmProjects\\\\pythonProject\\\\base'"
      ]
     },
     "execution_count": 1,
     "metadata": {},
     "output_type": "execute_result"
    }
   ],
   "source": [
    "import numpy as np\n",
    "import pandas as pd\n",
    "import os\n",
    "\n",
    "os.getcwd()"
   ]
  },
  {
   "cell_type": "code",
   "execution_count": 2,
   "id": "74d9aa30",
   "metadata": {},
   "outputs": [
    {
     "data": {
      "text/plain": [
       "['sheet1', 'sheet2', 'sheet3']"
      ]
     },
     "execution_count": 2,
     "metadata": {},
     "output_type": "execute_result"
    }
   ],
   "source": [
    "#改变位置\n",
    "#os.chdir('')\n",
    "#nrows 读取前10行\n",
    "#df=pd.read_csv(r'',encoding='',dtype={'id':int},nrws=10)\n",
    "#查看前五行\n",
    "#df.head\n",
    "\n",
    "#读取xlsx\n",
    "#df1=pd.read_excel(r'',sheet_name='')\n",
    "#拼接\n",
    "data_all=pd.DataFrame()\n",
    "sheet_name=['sheet'+str(i) for i in range(1,4)]\n",
    "sheet_name\n",
    "for i in sheet_name:\n",
    "    data=pd.read_excel('',sheet_name=i)\n",
    "    data_all=pd.concat([data_all.data,data],axis=0,ignore_index=True)\n",
    "data_all.tocsv('',index=False,encoding='utf-8')\n",
    "data_all.toexcel('',index=False,encoding='utf-8')\n"
   ]
  },
  {
   "cell_type": "code",
   "execution_count": null,
   "id": "a9920efa",
   "metadata": {},
   "outputs": [],
   "source": []
  }
 ],
 "metadata": {
  "kernelspec": {
   "display_name": "Python 3",
   "language": "python",
   "name": "python3"
  },
  "language_info": {
   "codemirror_mode": {
    "name": "ipython",
    "version": 3
   },
   "file_extension": ".py",
   "mimetype": "text/x-python",
   "name": "python",
   "nbconvert_exporter": "python",
   "pygments_lexer": "ipython3",
   "version": "3.9.5"
  }
 },
 "nbformat": 4,
 "nbformat_minor": 5
}
