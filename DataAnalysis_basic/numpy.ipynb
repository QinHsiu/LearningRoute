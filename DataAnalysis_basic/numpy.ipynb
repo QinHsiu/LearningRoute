{
 "cells": [
  {
   "cell_type": "code",
   "execution_count": 1,
   "id": "dca28069",
   "metadata": {},
   "outputs": [
    {
     "data": {
      "text/plain": [
       "38"
      ]
     },
     "execution_count": 1,
     "metadata": {},
     "output_type": "execute_result"
    }
   ],
   "source": [
    "import numpy as np\n",
    "import pandas as pd\n",
    "\n",
    "#矩阵乘法\n",
    "a=np.array([2,3,4])\n",
    "b=np.array([3,4,5])\n",
    "vector=np.dot(a,b)\n",
    "vector"
   ]
  },
  {
   "cell_type": "code",
   "execution_count": 7,
   "id": "3c1ef2a1",
   "metadata": {},
   "outputs": [
    {
     "ename": "SyntaxError",
     "evalue": "invalid syntax (<ipython-input-7-9e1570e10c95>, line 5)",
     "output_type": "error",
     "traceback": [
      "\u001b[1;36m  File \u001b[1;32m\"<ipython-input-7-9e1570e10c95>\"\u001b[1;36m, line \u001b[1;32m5\u001b[0m\n\u001b[1;33m    arr1=np.transpose([[1,2,3,4],[2,3,,4,5]])\u001b[0m\n\u001b[1;37m                                      ^\u001b[0m\n\u001b[1;31mSyntaxError\u001b[0m\u001b[1;31m:\u001b[0m invalid syntax\n"
     ]
    }
   ],
   "source": [
    "#转置\n",
    "arr=np.array([5,15,20,30]).reshape(4,1)\n",
    "arr\n",
    "\n"
   ]
  },
  {
   "cell_type": "code",
   "execution_count": 3,
   "id": "521c764e",
   "metadata": {},
   "outputs": [
    {
     "data": {
      "text/plain": [
       "matrix([[1, 2, 3, 4]])"
      ]
     },
     "execution_count": 3,
     "metadata": {},
     "output_type": "execute_result"
    }
   ],
   "source": [
    "#矩阵的另外一种表示\n",
    "np.matrix([1,2,3,4])"
   ]
  },
  {
   "cell_type": "code",
   "execution_count": 10,
   "id": "52b193f1",
   "metadata": {},
   "outputs": [
    {
     "data": {
      "text/plain": [
       "array([[ 0,  1,  2,  3],\n",
       "       [ 4,  5,  6,  7],\n",
       "       [ 8,  9, 10, 11]])"
      ]
     },
     "execution_count": 10,
     "metadata": {},
     "output_type": "execute_result"
    }
   ],
   "source": [
    "#使用arange创建矩阵\n",
    "arr=np.arange(12).reshape(3,4)\n",
    "arr"
   ]
  },
  {
   "cell_type": "code",
   "execution_count": 11,
   "id": "453e81f7",
   "metadata": {},
   "outputs": [
    {
     "data": {
      "text/plain": [
       "array([[ 0,  4,  8],\n",
       "       [ 1,  5,  9],\n",
       "       [ 2,  6, 10],\n",
       "       [ 3,  7, 11]])"
      ]
     },
     "execution_count": 11,
     "metadata": {},
     "output_type": "execute_result"
    }
   ],
   "source": [
    "#矩阵点乘用*号\n",
    "#矩阵乘法用np.dot()\n",
    "#矩阵转置函数\n",
    "arr1=np.transpose(arr)\n",
    "arr1"
   ]
  },
  {
   "cell_type": "code",
   "execution_count": 13,
   "id": "2ec1d241",
   "metadata": {},
   "outputs": [
    {
     "data": {
      "text/plain": [
       "array([[-2. ,  1. ],\n",
       "       [ 1.5, -0.5]])"
      ]
     },
     "execution_count": 13,
     "metadata": {},
     "output_type": "execute_result"
    }
   ],
   "source": [
    "#方阵存在逆矩阵\n",
    "arr=[[1,2],[3,4]]\n",
    "arr_inv=np.linalg.inv(arr)\n",
    "arr_inv"
   ]
  },
  {
   "cell_type": "code",
   "execution_count": 14,
   "id": "15668ef8",
   "metadata": {},
   "outputs": [
    {
     "data": {
      "text/plain": [
       "array([[1.0000000e+00, 0.0000000e+00],\n",
       "       [8.8817842e-16, 1.0000000e+00]])"
      ]
     },
     "execution_count": 14,
     "metadata": {},
     "output_type": "execute_result"
    }
   ],
   "source": [
    "np.dot(arr,arr_inv)"
   ]
  },
  {
   "cell_type": "code",
   "execution_count": 15,
   "id": "efc2191f",
   "metadata": {},
   "outputs": [
    {
     "data": {
      "text/plain": [
       "array([[1., 0.],\n",
       "       [0., 1.]])"
      ]
     },
     "execution_count": 15,
     "metadata": {},
     "output_type": "execute_result"
    }
   ],
   "source": [
    "#设置精度\n",
    "np.set_printoptions(suppress=True)\n",
    "np.dot(arr,arr_inv)"
   ]
  },
  {
   "cell_type": "code",
   "execution_count": 16,
   "id": "7520d737",
   "metadata": {},
   "outputs": [
    {
     "data": {
      "text/plain": [
       "array([1, 4])"
      ]
     },
     "execution_count": 16,
     "metadata": {},
     "output_type": "execute_result"
    }
   ],
   "source": [
    "#取对角元素\n",
    "np.diag(arr)"
   ]
  },
  {
   "cell_type": "code",
   "execution_count": 17,
   "id": "02bc5d1d",
   "metadata": {},
   "outputs": [
    {
     "data": {
      "text/plain": [
       "array([[1, 2],\n",
       "       [2, 3]])"
      ]
     },
     "execution_count": 17,
     "metadata": {},
     "output_type": "execute_result"
    }
   ],
   "source": [
    "#矩阵解方程\n",
    "#方程\n",
    "A=np.array([[1,2],[2,3]])\n",
    "A"
   ]
  },
  {
   "cell_type": "code",
   "execution_count": 20,
   "id": "e5123dc3",
   "metadata": {},
   "outputs": [
    {
     "data": {
      "text/plain": [
       "array([3, 5])"
      ]
     },
     "execution_count": 20,
     "metadata": {},
     "output_type": "execute_result"
    }
   ],
   "source": [
    "#值\n",
    "b=np.array([3,5])\n",
    "b"
   ]
  },
  {
   "cell_type": "code",
   "execution_count": 21,
   "id": "c8c2c15a",
   "metadata": {},
   "outputs": [
    {
     "data": {
      "text/plain": [
       "array([1., 1.])"
      ]
     },
     "execution_count": 21,
     "metadata": {},
     "output_type": "execute_result"
    }
   ],
   "source": [
    "X=np.linalg.solve(A,b)\n",
    "X"
   ]
  },
  {
   "cell_type": "code",
   "execution_count": 23,
   "id": "cbaec485",
   "metadata": {},
   "outputs": [
    {
     "data": {
      "text/plain": [
       "array([3., 5.])"
      ]
     },
     "execution_count": 23,
     "metadata": {},
     "output_type": "execute_result"
    }
   ],
   "source": [
    "np.dot(A,X)"
   ]
  },
  {
   "cell_type": "code",
   "execution_count": 4,
   "id": "3d48df99",
   "metadata": {},
   "outputs": [],
   "source": [
    "import numpy as np\n",
    "#读取文件txt或者csv\n",
    "#data=np.genfromtxt('',delimiter=',',skip_header=1)\n",
    "#data=np.loadtxt('')\n",
    "#查看函数参数\n",
    "np.genfromtxt?\n",
    "#fmt存储格式\n",
    "#np.savetxt('',data,delimiter,fmt)\n",
    "np.savetxt?"
   ]
  },
  {
   "cell_type": "code",
   "execution_count": 7,
   "id": "2c75f795",
   "metadata": {},
   "outputs": [
    {
     "data": {
      "text/plain": [
       "['A', 'B', 'C', 'D', 'E']"
      ]
     },
     "execution_count": 7,
     "metadata": {},
     "output_type": "execute_result"
    }
   ],
   "source": [
    "#字符串操作\n",
    "str=[chr(ord('a')+i) for i in range(5)]\n",
    "str1=[i.upper() for i in str]\n",
    "str1"
   ]
  },
  {
   "cell_type": "code",
   "execution_count": 8,
   "id": "3315c8f3",
   "metadata": {},
   "outputs": [
    {
     "data": {
      "text/plain": [
       "array(['A', 'B', 'C', 'D', 'E'], dtype='<U1')"
      ]
     },
     "execution_count": 8,
     "metadata": {},
     "output_type": "execute_result"
    }
   ],
   "source": [
    "#大小写\n",
    "str2=np.char.upper(str)\n",
    "str2"
   ]
  },
  {
   "cell_type": "code",
   "execution_count": 16,
   "id": "212c2445",
   "metadata": {},
   "outputs": [
    {
     "data": {
      "text/plain": [
       "array(['h-e-l-l-o', 'w-o-r-l-d'], dtype='<U9')"
      ]
     },
     "execution_count": 16,
     "metadata": {},
     "output_type": "execute_result"
    }
   ],
   "source": [
    "#拼接\n",
    "str3=[chr(ord('e')+i) for i in range(5)]\n",
    "str4=np.char.add(str1,str3)\n",
    "str4\n",
    "#乘积\n",
    "str5=np.char.multiply(['中国'],3)\n",
    "str5\n",
    "#拼接\n",
    "str6=np.char.join(['-'],['hello','world'])\n",
    "str6\n",
    "#替换\n",
    "str7=np.char.replace(str5,'中国','china')\n",
    "str7\n",
    "#去除\n",
    "str8=np.char.strip(str6,'-')\n",
    "str8"
   ]
  },
  {
   "cell_type": "code",
   "execution_count": null,
   "id": "b566ef7f",
   "metadata": {},
   "outputs": [],
   "source": []
  }
 ],
 "metadata": {
  "kernelspec": {
   "display_name": "Python 3",
   "language": "python",
   "name": "python3"
  },
  "language_info": {
   "codemirror_mode": {
    "name": "ipython",
    "version": 3
   },
   "file_extension": ".py",
   "mimetype": "text/x-python",
   "name": "python",
   "nbconvert_exporter": "python",
   "pygments_lexer": "ipython3",
   "version": "3.9.5"
  }
 },
 "nbformat": 4,
 "nbformat_minor": 5
}
